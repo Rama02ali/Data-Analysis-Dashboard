{
 "cells": [
  {
   "cell_type": "code",
   "execution_count": 18,
   "id": "3f5b7386",
   "metadata": {},
   "outputs": [
    {
     "name": "stdout",
     "output_type": "stream",
     "text": [
      "Collecting plotly-express\n",
      "  Downloading plotly_express-0.4.1-py2.py3-none-any.whl (2.9 kB)\n",
      "Requirement already satisfied: patsy>=0.5 in c:\\users\\hp\\anaconda3\\lib\\site-packages (from plotly-express) (0.5.2)\n",
      "Requirement already satisfied: plotly>=4.1.0 in c:\\users\\hp\\anaconda3\\lib\\site-packages (from plotly-express) (5.6.0)\n",
      "Requirement already satisfied: statsmodels>=0.9.0 in c:\\users\\hp\\anaconda3\\lib\\site-packages (from plotly-express) (0.13.2)\n",
      "Requirement already satisfied: numpy>=1.11 in c:\\users\\hp\\anaconda3\\lib\\site-packages (from plotly-express) (1.21.6)\n",
      "Requirement already satisfied: pandas>=0.20.0 in c:\\users\\hp\\anaconda3\\lib\\site-packages (from plotly-express) (1.4.2)\n",
      "Requirement already satisfied: scipy>=0.18 in c:\\users\\hp\\anaconda3\\lib\\site-packages (from plotly-express) (1.7.3)\n",
      "Requirement already satisfied: pytz>=2020.1 in c:\\users\\hp\\anaconda3\\lib\\site-packages (from pandas>=0.20.0->plotly-express) (2021.3)\n",
      "Requirement already satisfied: python-dateutil>=2.8.1 in c:\\users\\hp\\anaconda3\\lib\\site-packages (from pandas>=0.20.0->plotly-express) (2.8.2)\n",
      "Requirement already satisfied: six in c:\\users\\hp\\anaconda3\\lib\\site-packages (from patsy>=0.5->plotly-express) (1.16.0)\n",
      "Requirement already satisfied: tenacity>=6.2.0 in c:\\users\\hp\\anaconda3\\lib\\site-packages (from plotly>=4.1.0->plotly-express) (8.0.1)\n",
      "Requirement already satisfied: packaging>=21.3 in c:\\users\\hp\\anaconda3\\lib\\site-packages (from statsmodels>=0.9.0->plotly-express) (21.3)\n",
      "Requirement already satisfied: pyparsing!=3.0.5,>=2.0.2 in c:\\users\\hp\\anaconda3\\lib\\site-packages (from packaging>=21.3->statsmodels>=0.9.0->plotly-express) (3.0.4)\n",
      "Installing collected packages: plotly-express\n",
      "Successfully installed plotly-express-0.4.1\n",
      "Note: you may need to restart the kernel to use updated packages.\n"
     ]
    },
    {
     "name": "stderr",
     "output_type": "stream",
     "text": [
      "WARNING: Ignoring invalid distribution -rotobuf (c:\\users\\hp\\anaconda3\\lib\\site-packages)\n",
      "WARNING: Ignoring invalid distribution -rotobuf (c:\\users\\hp\\anaconda3\\lib\\site-packages)\n",
      "WARNING: Ignoring invalid distribution -rotobuf (c:\\users\\hp\\anaconda3\\lib\\site-packages)\n",
      "WARNING: Ignoring invalid distribution -rotobuf (c:\\users\\hp\\anaconda3\\lib\\site-packages)\n",
      "WARNING: Ignoring invalid distribution -rotobuf (c:\\users\\hp\\anaconda3\\lib\\site-packages)\n",
      "WARNING: Ignoring invalid distribution -rotobuf (c:\\users\\hp\\anaconda3\\lib\\site-packages)\n",
      "WARNING: Ignoring invalid distribution -rotobuf (c:\\users\\hp\\anaconda3\\lib\\site-packages)\n"
     ]
    }
   ],
   "source": [
    "pip install plotly-express"
   ]
  },
  {
   "cell_type": "code",
   "execution_count": 20,
   "id": "bef50a00",
   "metadata": {},
   "outputs": [],
   "source": [
    "import pandas as pd # data manipulations\n",
    "import plotly.express as px # visualizations\n",
    "import streamlit as st # Dashboards\n",
    "import openpyxl"
   ]
  },
  {
   "cell_type": "code",
   "execution_count": 29,
   "id": "34b03ecd",
   "metadata": {},
   "outputs": [],
   "source": [
    "st.set_page_config(page_title='Sales Dashboard',page_icon='👩‍💻',layout=\"wide\")"
   ]
  },
  {
   "cell_type": "code",
   "execution_count": 30,
   "id": "a1adc931",
   "metadata": {},
   "outputs": [],
   "source": [
    "df=pd.read_excel(io='supermarkt_sales.xlsx',engine='openpyxl',sheet_name='Sales',skiprows=3,usecols='B:R',nrows=900).head(2)"
   ]
  },
  {
   "cell_type": "code",
   "execution_count": 32,
   "id": "77febf5d",
   "metadata": {},
   "outputs": [
    {
     "data": {
      "text/plain": [
       "DeltaGenerator(_root_container=0, _provided_cursor=None, _parent=None, _block_type=None, _form_data=None)"
      ]
     },
     "execution_count": 32,
     "metadata": {},
     "output_type": "execute_result"
    }
   ],
   "source": [
    "st.dataframe(df)"
   ]
  },
  {
   "cell_type": "code",
   "execution_count": 34,
   "id": "d37bc08b",
   "metadata": {},
   "outputs": [
    {
     "ename": "SyntaxError",
     "evalue": "invalid syntax (3590451920.py, line 3)",
     "output_type": "error",
     "traceback": [
      "\u001b[1;36m  Input \u001b[1;32mIn [34]\u001b[1;36m\u001b[0m\n\u001b[1;33m    def run_streamlit_app(\"C:/Users/HP/Documents/Dashboard(logatta)/first_app.ipynb\"):\u001b[0m\n\u001b[1;37m                          ^\u001b[0m\n\u001b[1;31mSyntaxError\u001b[0m\u001b[1;31m:\u001b[0m invalid syntax\n"
     ]
    }
   ],
   "source": [
    "import subprocess\n",
    "\n",
    "def run_streamlit_app(\"C:/Users/HP/Documents/Dashboard(logatta)/first_app.ipynb\"):\n",
    "    try:\n",
    "        subprocess.run([\"streamlit\", \"run\", file_path], check=True)\n",
    "    except subprocess.CalledProcessError as e:\n",
    "        print(f\"Error occurred: {e}\")\n",
    "    except FileNotFoundError:\n",
    "        print(\"Streamlit executable not found. Make sure Streamlit is installed.\")\n",
    "    except Exception as e:\n",
    "        print(f\"An unexpected error occurred: {e}\")\n",
    "\n",
    "if __name__ == \"__main__\":\n",
    "    app_file_path = \"path/to/your/app.py\"  # Replace with the actual path to your Streamlit app\n",
    "    run_streamlit_app(app_file_path)\n"
   ]
  },
  {
   "cell_type": "code",
   "execution_count": null,
   "id": "a4b88593",
   "metadata": {},
   "outputs": [],
   "source": []
  }
 ],
 "metadata": {
  "kernelspec": {
   "display_name": "Python 3 (ipykernel)",
   "language": "python",
   "name": "python3"
  },
  "language_info": {
   "codemirror_mode": {
    "name": "ipython",
    "version": 3
   },
   "file_extension": ".py",
   "mimetype": "text/x-python",
   "name": "python",
   "nbconvert_exporter": "python",
   "pygments_lexer": "ipython3",
   "version": "3.9.12"
  }
 },
 "nbformat": 4,
 "nbformat_minor": 5
}
