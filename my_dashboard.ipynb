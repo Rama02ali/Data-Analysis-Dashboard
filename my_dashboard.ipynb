{
 "cells": [
  {
   "cell_type": "code",
   "execution_count": 1,
   "id": "e0deeaa4",
   "metadata": {},
   "outputs": [
    {
     "name": "stderr",
     "output_type": "stream",
     "text": [
      "2023-07-29 02:14:26.351 \n",
      "  \u001b[33m\u001b[1mWarning:\u001b[0m to view this Streamlit app on a browser, run it with the following\n",
      "  command:\n",
      "\n",
      "    streamlit run C:\\Users\\HP\\anaconda3\\lib\\site-packages\\ipykernel_launcher.py [ARGUMENTS]\n"
     ]
    }
   ],
   "source": [
    "import streamlit as st\n",
    "import pandas as pd\n",
    "import plotly.express as px\n",
    "\n",
    "# Disable the warning about pyplot global use\n",
    "st.set_option('deprecation.showPyplotGlobalUse', False)\n",
    "st.set_page_config(page_title=\"My Dashboard\", page_icon=':bar_chart:', layout='wide')\n",
    "\n",
    "def plot_chart(data, x_column, y_column, chart_type):\n",
    "    if chart_type == \"Line Plot\":\n",
    "        fig = px.line(data, x=x_column, y=y_column)\n",
    "    elif chart_type == \"Bar Plot\":\n",
    "        fig = px.bar(data, x=x_column, y=y_column)\n",
    "    elif chart_type == \"Scatter Plot\":\n",
    "        fig = px.scatter(data, x=x_column, y=y_column)\n",
    "    elif chart_type == \"Histogram\":\n",
    "        fig = px.histogram(data, x=x_column)\n",
    "    elif chart_type == \"Box Plot\":\n",
    "        fig = px.box(data, x=x_column, y=y_column)\n",
    "    elif chart_type == \"Heatmap\":\n",
    "        fig = px.imshow(data.corr())\n",
    "    elif chart_type == \"Pie Chart\":\n",
    "        fig = px.pie(data, values=y_column, names=x_column)\n",
    "    elif chart_type == \"3D Scatter Plot\":\n",
    "        fig = px.scatter_3d(data, x=x_column, y=y_column, z='Another_Column')\n",
    "    \n",
    "    # Display the Plotly figure\n",
    "    st.plotly_chart(fig)\n",
    "\n",
    "def main():\n",
    "    st.title(\"Logatta Dashboard\")\n",
    "\n",
    "    uploaded_file = st.file_uploader(\"Upload a dataset file\", type=[\"csv\", \"xlsx\", \"xls\"])\n",
    "\n",
    "    if uploaded_file is not None:\n",
    "        # Determine the file extension of the uploaded file\n",
    "        file_extension = uploaded_file.name.split(\".\")[-1]\n",
    "\n",
    "        if file_extension in [\"csv\", \"xlsx\", \"xls\"]:\n",
    "            # Read the uploaded dataset based on its extension\n",
    "            if file_extension == \"csv\":\n",
    "                data = pd.read_csv(uploaded_file)\n",
    "            else:\n",
    "                data = pd.read_excel(uploaded_file, engine='openpyxl')\n",
    "\n",
    "            # Show the DataFrame in the dashboard\n",
    "            st.subheader(\"Preview of the Dataset\")\n",
    "            st.dataframe(data)\n",
    "\n",
    "            columns = st.sidebar.multiselect(\"Select Columns\", data.columns.tolist())\n",
    "\n",
    "            if columns:\n",
    "                chart_type = st.sidebar.selectbox(\"Select Chart Type\", [\n",
    "                    \"Line Plot\", \"Bar Plot\", \"Scatter Plot\", \"Histogram\",\n",
    "                    \"Box Plot\", \"Heatmap\", \"Pie Chart\", \"3D Scatter Plot\"\n",
    "                ])\n",
    "\n",
    "                if len(columns) >= 2:\n",
    "                    x_column = st.sidebar.selectbox(\"Select X-axis Column\", columns)\n",
    "                    y_column = st.sidebar.selectbox(\"Select Y-axis Column\", columns)\n",
    "                    filtered_data = data[columns]\n",
    "                    plot_chart(filtered_data, x_column, y_column, chart_type)\n",
    "                else:\n",
    "                    st.warning(\"Please select at least two columns for the chart.\")\n",
    "            else:\n",
    "                st.warning(\"Please select columns to visualize.\")\n",
    "        else:\n",
    "            st.warning(\"Invalid file format. Please upload a CSV, Excel (xlsx), or Excel (xls) file.\")\n",
    "\n",
    "if __name__ == \"__main__\":\n",
    "    main()\n"
   ]
  },
  {
   "cell_type": "code",
   "execution_count": null,
   "id": "31c640cc",
   "metadata": {},
   "outputs": [],
   "source": []
  }
 ],
 "metadata": {
  "kernelspec": {
   "display_name": "Python 3 (ipykernel)",
   "language": "python",
   "name": "python3"
  },
  "language_info": {
   "codemirror_mode": {
    "name": "ipython",
    "version": 3
   },
   "file_extension": ".py",
   "mimetype": "text/x-python",
   "name": "python",
   "nbconvert_exporter": "python",
   "pygments_lexer": "ipython3",
   "version": "3.9.12"
  }
 },
 "nbformat": 4,
 "nbformat_minor": 5
}
