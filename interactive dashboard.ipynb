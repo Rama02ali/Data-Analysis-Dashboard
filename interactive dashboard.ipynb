{
 "cells": [
  {
   "cell_type": "code",
   "execution_count": null,
   "id": "cb8747cf",
   "metadata": {},
   "outputs": [],
   "source": [
    "# https://www.youtube.com/watch?v=7yAw1nPareM"
   ]
  },
  {
   "cell_type": "code",
   "execution_count": 1,
   "id": "8c74f508",
   "metadata": {},
   "outputs": [],
   "source": [
    "import streamlit as st\n",
    "import plotly.express as px\n",
    "import pandas as pd\n",
    "import os\n",
    "import warnings\n",
    "warnings.filterwarnings('ignore')"
   ]
  },
  {
   "cell_type": "code",
   "execution_count": 4,
   "id": "881adc98",
   "metadata": {},
   "outputs": [],
   "source": [
    "st.set_page_config(page_title=\"supermarket\",page_icon=':female-technologist:',layout='wide')"
   ]
  },
  {
   "cell_type": "code",
   "execution_count": 5,
   "id": "a6c4a70e",
   "metadata": {},
   "outputs": [
    {
     "name": "stderr",
     "output_type": "stream",
     "text": [
      "2023-07-26 12:29:10.409 \n",
      "  \u001b[33m\u001b[1mWarning:\u001b[0m to view this Streamlit app on a browser, run it with the following\n",
      "  command:\n",
      "\n",
      "    streamlit run C:\\Users\\HP\\anaconda3\\lib\\site-packages\\ipykernel_launcher.py [ARGUMENTS]\n"
     ]
    },
    {
     "data": {
      "text/plain": [
       "DeltaGenerator(_root_container=0, _provided_cursor=None, _parent=None, _block_type=None, _form_data=None)"
      ]
     },
     "execution_count": 5,
     "metadata": {},
     "output_type": "execute_result"
    }
   ],
   "source": [
    "st.title('supermarket')"
   ]
  },
  {
   "cell_type": "code",
   "execution_count": 1,
   "id": "34f7fc65",
   "metadata": {},
   "outputs": [
    {
     "name": "stderr",
     "output_type": "stream",
     "text": [
      "2023-07-26 16:05:33.786 \n",
      "  \u001b[33m\u001b[1mWarning:\u001b[0m to view this Streamlit app on a browser, run it with the following\n",
      "  command:\n",
      "\n",
      "    streamlit run C:\\Users\\HP\\anaconda3\\lib\\site-packages\\ipykernel_launcher.py [ARGUMENTS]\n"
     ]
    },
    {
     "data": {
      "text/plain": [
       "DeltaGenerator(_root_container=0, _provided_cursor=None, _parent=None, _block_type=None, _form_data=None)"
      ]
     },
     "execution_count": 1,
     "metadata": {},
     "output_type": "execute_result"
    }
   ],
   "source": [
    "import streamlit as st\n",
    "import pandas as pd\n",
    "import plotly.express as px\n",
    "import warnings\n",
    "import os\n",
    "warnings.filterwarnings('ignore')\n",
    "\n",
    "st.set_page_config(page_title=\"supermarket\",page_icon=':female-technologist:',layout='wide')\n",
    "st.title('supermarket')"
   ]
  },
  {
   "cell_type": "code",
   "execution_count": 3,
   "id": "128ed4bd",
   "metadata": {},
   "outputs": [
    {
     "name": "stderr",
     "output_type": "stream",
     "text": [
      "Usage: streamlit run [OPTIONS] TARGET [ARGS]...\n",
      "Try 'streamlit run --help' for help.\n",
      "\n",
      "Error: Invalid value: File does not exist: supermarket_app.py\n"
     ]
    }
   ],
   "source": [
    "!streamlit run supermarket_app.py\n"
   ]
  },
  {
   "cell_type": "code",
   "execution_count": 4,
   "id": "a3fa9943",
   "metadata": {},
   "outputs": [
    {
     "data": {
      "text/html": [
       "\n",
       "        <iframe\n",
       "            width=\"100%\"\n",
       "            height=\"500\"\n",
       "            src=\"http://localhost:8501/?run=supermarket_app.py\"\n",
       "            frameborder=\"0\"\n",
       "            allowfullscreen\n",
       "            \n",
       "        ></iframe>\n",
       "        "
      ],
      "text/plain": [
       "<IPython.lib.display.IFrame at 0x20ceb8e2ee0>"
      ]
     },
     "execution_count": 4,
     "metadata": {},
     "output_type": "execute_result"
    }
   ],
   "source": [
    "import streamlit as st\n",
    "\n",
    "st.set_page_config(page_title=\"supermarket\", page_icon=':female-technologist:', layout='wide')\n",
    "st.title('supermarket')\n",
    "\n",
    "# Add your Streamlit app code here\n",
    "import pydeck as pdk\n",
    "from IPython.display import IFrame\n",
    "\n",
    "def render_streamlit_app(script_file):\n",
    "    app_url = f\"http://localhost:8501/?run={script_file}\"\n",
    "    return IFrame(app_url, width=\"100%\", height=500)\n",
    "\n",
    "render_streamlit_app(\"supermarket_app.py\")\n"
   ]
  },
  {
   "cell_type": "code",
   "execution_count": null,
   "id": "7596727d",
   "metadata": {},
   "outputs": [],
   "source": []
  }
 ],
 "metadata": {
  "kernelspec": {
   "display_name": "Python 3 (ipykernel)",
   "language": "python",
   "name": "python3"
  },
  "language_info": {
   "codemirror_mode": {
    "name": "ipython",
    "version": 3
   },
   "file_extension": ".py",
   "mimetype": "text/x-python",
   "name": "python",
   "nbconvert_exporter": "python",
   "pygments_lexer": "ipython3",
   "version": "3.9.12"
  }
 },
 "nbformat": 4,
 "nbformat_minor": 5
}
