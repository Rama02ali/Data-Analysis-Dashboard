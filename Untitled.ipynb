{
 "cells": [
  {
   "cell_type": "code",
   "execution_count": null,
   "id": "8f10b6de",
   "metadata": {},
   "outputs": [],
   "source": [
    "# https://www.youtube.com/watch?v=UYGwgHhazMA"
   ]
  },
  {
   "cell_type": "code",
   "execution_count": 1,
   "id": "ba88a5a2",
   "metadata": {},
   "outputs": [],
   "source": [
    "import pandas as pd\n",
    "import plotly.express as px"
   ]
  },
  {
   "cell_type": "code",
   "execution_count": 4,
   "id": "341552a1",
   "metadata": {},
   "outputs": [
    {
     "data": {
      "text/plain": [
       "<bound method DataFrame.info of              date  average_price  total_volume        4046       4225  \\\n",
       "0      2015-01-04           1.22      40873.28     2819.50   28287.42   \n",
       "1      2015-01-04           1.79       1373.95       57.42     153.88   \n",
       "2      2015-01-04           1.00     435021.49   364302.39   23821.16   \n",
       "3      2015-01-04           1.76       3846.69     1500.15     938.35   \n",
       "4      2015-01-04           1.08     788025.06    53987.31  552906.04   \n",
       "...           ...            ...           ...         ...        ...   \n",
       "33040  2020-11-29           1.47    1583056.27    67544.48   97996.46   \n",
       "33041  2020-11-29           0.91    5811114.22  1352877.53  589061.83   \n",
       "33042  2020-11-29           1.48     289961.27    13273.75   19341.09   \n",
       "33043  2020-11-29           0.67     822818.75   234688.01   80205.15   \n",
       "33044  2020-11-29           1.35      24106.58     1236.96     617.80   \n",
       "\n",
       "           4770  total_bags  small_bags  large_bags  xlarge_bags  \\\n",
       "0         49.90     9716.46     9186.93      529.53         0.00   \n",
       "1          0.00     1162.65     1162.65        0.00         0.00   \n",
       "2         82.15    46815.79    16707.15    30108.64         0.00   \n",
       "3          0.00     1408.19     1071.35      336.84         0.00   \n",
       "4      39995.03   141136.68   137146.07     3990.61         0.00   \n",
       "...         ...         ...         ...         ...          ...   \n",
       "33040   2617.17  1414878.10   906711.52   480191.83     27974.75   \n",
       "33041  19741.90  3790665.29  2197611.02  1531530.14     61524.13   \n",
       "33042    636.51   256709.92   122606.21   134103.71         0.00   \n",
       "33043  10543.63   497381.96   285764.11   210808.02       809.83   \n",
       "33044   1564.98    20686.84    17824.52     2862.32         0.00   \n",
       "\n",
       "               type  year             geography  \n",
       "0      conventional  2015                Albany  \n",
       "1           organic  2015                Albany  \n",
       "2      conventional  2015               Atlanta  \n",
       "3           organic  2015               Atlanta  \n",
       "4      conventional  2015  Baltimore/Washington  \n",
       "...             ...   ...                   ...  \n",
       "33040       organic  2020            Total U.S.  \n",
       "33041  conventional  2020                  West  \n",
       "33042       organic  2020                  West  \n",
       "33043  conventional  2020   West Tex/New Mexico  \n",
       "33044       organic  2020   West Tex/New Mexico  \n",
       "\n",
       "[33045 rows x 13 columns]>"
      ]
     },
     "execution_count": 4,
     "metadata": {},
     "output_type": "execute_result"
    }
   ],
   "source": [
    "df=pd.read_csv('avocado-updated-2020.csv')\n",
    "df.info"
   ]
  },
  {
   "cell_type": "code",
   "execution_count": 7,
   "id": "4ae73e72",
   "metadata": {},
   "outputs": [
    {
     "name": "stdout",
     "output_type": "stream",
     "text": [
      "conventional    16524\n",
      "organic         16521\n",
      "Name: type, dtype: int64\n",
      "Albany                  612\n",
      "Sacramento              612\n",
      "Northeast               612\n",
      "Northern New England    612\n",
      "Orlando                 612\n",
      "Philadelphia            612\n",
      "Phoenix/Tucson          612\n",
      "Pittsburgh              612\n",
      "Plains                  612\n",
      "Portland                612\n",
      "Raleigh/Greensboro      612\n",
      "Richmond/Norfolk        612\n",
      "Roanoke                 612\n",
      "San Diego               612\n",
      "Atlanta                 612\n",
      "San Francisco           612\n",
      "Seattle                 612\n",
      "South Carolina          612\n",
      "South Central           612\n",
      "Southeast               612\n",
      "Spokane                 612\n",
      "St. Louis               612\n",
      "Syracuse                612\n",
      "Tampa                   612\n",
      "Total U.S.              612\n",
      "West                    612\n",
      "New York                612\n",
      "New Orleans/Mobile      612\n",
      "Nashville               612\n",
      "Midsouth                612\n",
      "Baltimore/Washington    612\n",
      "Boise                   612\n",
      "Boston                  612\n",
      "Buffalo/Rochester       612\n",
      "California              612\n",
      "Charlotte               612\n",
      "Chicago                 612\n",
      "Cincinnati/Dayton       612\n",
      "Columbus                612\n",
      "Dallas/Ft. Worth        612\n",
      "Denver                  612\n",
      "Detroit                 612\n",
      "Grand Rapids            612\n",
      "Great Lakes             612\n",
      "Harrisburg/Scranton     612\n",
      "Hartford/Springfield    612\n",
      "Houston                 612\n",
      "Indianapolis            612\n",
      "Jacksonville            612\n",
      "Las Vegas               612\n",
      "Los Angeles             612\n",
      "Louisville              612\n",
      "Miami/Ft. Lauderdale    612\n",
      "West Tex/New Mexico     609\n",
      "Name: geography, dtype: int64\n"
     ]
    }
   ],
   "source": [
    "print(df['type'].value_counts(dropna=False))\n",
    "print(df['geography'].value_counts(dropna=False))"
   ]
  },
  {
   "cell_type": "code",
   "execution_count": null,
   "id": "14849615",
   "metadata": {},
   "outputs": [],
   "source": []
  }
 ],
 "metadata": {
  "kernelspec": {
   "display_name": "Python 3 (ipykernel)",
   "language": "python",
   "name": "python3"
  },
  "language_info": {
   "codemirror_mode": {
    "name": "ipython",
    "version": 3
   },
   "file_extension": ".py",
   "mimetype": "text/x-python",
   "name": "python",
   "nbconvert_exporter": "python",
   "pygments_lexer": "ipython3",
   "version": "3.9.12"
  }
 },
 "nbformat": 4,
 "nbformat_minor": 5
}
